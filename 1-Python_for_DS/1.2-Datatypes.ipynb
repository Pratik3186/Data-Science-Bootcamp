{
 "cells": [
  {
   "cell_type": "markdown",
   "id": "b4264f66",
   "metadata": {},
   "source": [
    "# Data Types\n",
    "\n",
    "## 1. Definition\n",
    "Data types are a classification of data which tell the compiler or interpreter how the programmer intends to use the data.  \n",
    "They determine:\n",
    "- The type of operations that can be performed on the data  \n",
    "- The values that the data can take  \n",
    "- The amount of memory needed to store the data  \n",
    "\n",
    "---\n",
    "\n",
    "## 2. Importance of Data Types in Programming\n",
    "\n",
    "### Explanation:\n",
    "- Data types ensure that data is stored in an efficient way.  \n",
    "- They help in performing correct operations on data.  \n",
    "- Proper use of data types can prevent errors and bugs in the program.  \n",
    "\n",
    "---\n",
    "\n",
    "## 🎬 Video Outline\n",
    "\n",
    "### ✅ Introduction to Data Types  \n",
    "### ✅ Importance of Data Types in Programming  \n",
    "\n",
    "### ✅ Basic Data Types\n",
    "- Integers  \n",
    "- Floating-point numbers  \n",
    "- Strings  \n",
    "- Booleans  \n",
    "\n",
    "### ✅ Advanced Data Types\n",
    "- Lists  \n",
    "- Tuples  \n",
    "- Sets  \n",
    "- Dictionaries  \n",
    "\n",
    "### ✅ Type Conversion  \n",
    "### ✅ Practical Examples  \n"
   ]
  },
  {
   "cell_type": "code",
   "execution_count": null,
   "id": "7fdc25e8",
   "metadata": {
    "vscode": {
     "languageId": "plaintext"
    }
   },
   "outputs": [],
   "source": [
    "## Integer Example\n",
    "age=35\n",
    "type(age)"
   ]
  },
  {
   "cell_type": "code",
   "execution_count": null,
   "id": "c820289e",
   "metadata": {
    "vscode": {
     "languageId": "plaintext"
    }
   },
   "outputs": [],
   "source": [
    "##floating point datatype\n",
    "height=5.11\n",
    "print(height)\n",
    "print(type(height))"
   ]
  },
  {
   "cell_type": "code",
   "execution_count": null,
   "id": "26e91623",
   "metadata": {
    "vscode": {
     "languageId": "plaintext"
    }
   },
   "outputs": [],
   "source": [
    "## string datatype example\n",
    "name=\"Pratik\"\n",
    "print(name)\n",
    "print(type(name))"
   ]
  },
  {
   "cell_type": "code",
   "execution_count": null,
   "id": "7dcf5947",
   "metadata": {
    "vscode": {
     "languageId": "plaintext"
    }
   },
   "outputs": [],
   "source": [
    "## boolean datatype\n",
    "is_true=True\n",
    "type(is_true)"
   ]
  },
  {
   "cell_type": "code",
   "execution_count": null,
   "id": "7a98d039",
   "metadata": {
    "vscode": {
     "languageId": "plaintext"
    }
   },
   "outputs": [],
   "source": [
    "a=10\n",
    "b=10\n",
    "\n",
    "type(a==b)"
   ]
  },
  {
   "cell_type": "code",
   "execution_count": null,
   "id": "61f180a9",
   "metadata": {
    "vscode": {
     "languageId": "plaintext"
    }
   },
   "outputs": [],
   "source": [
    "## common errors\n",
    "\n",
    "result=\"Hello\" + 5"
   ]
  },
  {
   "cell_type": "code",
   "execution_count": null,
   "id": "75a96f6e",
   "metadata": {
    "vscode": {
     "languageId": "plaintext"
    }
   },
   "outputs": [],
   "source": [
    "result=\"Hello\" + str(5)\n",
    "print(result)"
   ]
  }
 ],
 "metadata": {
  "language_info": {
   "name": "python"
  }
 },
 "nbformat": 4,
 "nbformat_minor": 5
}
